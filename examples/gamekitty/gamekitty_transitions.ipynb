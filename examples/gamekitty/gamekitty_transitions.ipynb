{
 "cells": [
  {
   "cell_type": "code",
   "execution_count": 1,
   "metadata": {},
   "outputs": [],
   "source": [
    "from pikov import pikov\n",
    "gamekitty = pikov.Pikov.open('gamekitty.pikov')"
   ]
  },
  {
   "cell_type": "code",
   "execution_count": 2,
   "metadata": {},
   "outputs": [
    {
     "data": {
      "text/plain": [
       "(Frame(id='sit_0'),\n",
       " Frame(id='sit_paw_3'),\n",
       " Frame(id='sit_to_stand_3'),\n",
       " Frame(id='stand_to_sit_4'),\n",
       " Frame(id='stand_waggle_1'))"
      ]
     },
     "execution_count": 2,
     "metadata": {},
     "output_type": "execute_result"
    }
   ],
   "source": [
    "# Find any absorbing (dead-end) frames\n",
    "# to see how many clips left to connect.\n",
    "gamekitty.find_absorbing_frames()"
   ]
  },
  {
   "cell_type": "markdown",
   "metadata": {},
   "source": [
    "Add all transitions to clips where gamekitty does not move side-to-side."
   ]
  },
  {
   "cell_type": "code",
   "execution_count": 3,
   "metadata": {},
   "outputs": [],
   "source": [
    "def connect_frames(\n",
    "    sit, sit_paw, sit_to_stand, stand_waggle, stand_to_sit,\n",
    "    sit_paw_end, sit_to_stand_end, stand_waggle_end,\n",
    "    stand_to_sit_end, \n",
    "#    crouch, sit_to_crouch, sit_to_crouch_end, crouch_to_sit, crouch_to_sit_end,\n",
    "#    lie_down, lie_down_end, sleep, sleep_end\n",
    "):\n",
    "    sit.transition_to(sit)\n",
    "    sit.transition_to(sit_to_stand)\n",
    "    sit.transition_to(sit_paw)\n",
    "    sit_paw_end.transition_to(sit)\n",
    "    sit_to_stand_end.transition_to(stand_waggle)\n",
    "    stand_waggle_end.transition_to(stand_waggle)\n",
    "    stand_waggle_end.transition_to(stand_to_sit)\n",
    "    stand_to_sit_end.transition_to(sit)\n",
    "    \n",
    "    # Intentionally allow a transition from the first frame in stand_waggle.\n",
    "    # stand_waggle.transition_to(stand_to_sit)\n",
    "    \n",
    "    # Crouch\n",
    "#     sit.transition_to(sit_to_crouch)\n",
    "#     sit_to_crouch_end.transition_to(crouch)\n",
    "#     crouch.transition_to(crouch)\n",
    "#     crouch.transition_to(crouch_to_sit)\n",
    "#     crouch_to_sit_end.transition_to(sit)\n",
    "    \n",
    "    # Sleepy time\n",
    "#     crouch.transition_to(lie_down)\n",
    "#     lie_down_end.transition_to(lie_down)\n",
    "#     lie_down_end.transition_to(sleep)\n",
    "#     sleep.transition_to(lie_down_end)\n",
    "#     sleep_end.transition_to(sleep)\n",
    "#     lie_down.transition_to(crouch)"
   ]
  },
  {
   "cell_type": "code",
   "execution_count": 4,
   "metadata": {},
   "outputs": [],
   "source": [
    "connect_frames(\n",
    "    sit=gamekitty.get_frame('sit_0'),\n",
    "    sit_paw=gamekitty.get_frame('sit_paw_0'),\n",
    "    sit_to_stand=gamekitty.get_frame('sit_to_stand_0'),\n",
    "    stand_waggle=gamekitty.get_frame('stand_waggle_0'),\n",
    "    stand_to_sit=gamekitty.get_frame('stand_to_sit_0'),\n",
    "    sit_paw_end=gamekitty.get_frame('sit_paw_3'),\n",
    "    sit_to_stand_end=gamekitty.get_frame('sit_to_stand_3'),\n",
    "    stand_waggle_end=gamekitty.get_frame('stand_waggle_1'),\n",
    "    stand_to_sit_end=gamekitty.get_frame('stand_to_sit_4'),\n",
    "#     crouch=gamekitty.get_frame('crouch_0'),\n",
    "#     sit_to_crouch=gamekitty.get_frame('sit_to_crouch_0'),\n",
    "#     sit_to_crouch_end=gamekitty.get_frame('sit_to_crouch_2'),\n",
    "#     crouch_to_sit=gamekitty.get_frame('crouch_to_sit_0'),\n",
    "#     crouch_to_sit_end=gamekitty.get_frame('crouch_to_sit_2'),\n",
    "#     lie_down=gamekitty.get_frame('lie_down_0'),\n",
    "#     lie_down_end=gamekitty.get_frame('lie_down_1'),\n",
    "#     sleep = gamekitty.get_frame('sleep_0'),\n",
    "#     sleep_end = gamekitty.get_frame('sleep_3'),\n",
    ")"
   ]
  },
  {
   "cell_type": "code",
   "execution_count": 5,
   "metadata": {},
   "outputs": [
    {
     "data": {
      "text/plain": [
       "()"
      ]
     },
     "execution_count": 5,
     "metadata": {},
     "output_type": "execute_result"
    }
   ],
   "source": [
    "# Missing any transitions?\n",
    "gamekitty.find_absorbing_frames()"
   ]
  },
  {
   "cell_type": "code",
   "execution_count": 7,
   "metadata": {},
   "outputs": [],
   "source": [
    "# Mirrored frames\n",
    "connect_frames(\n",
    "    sit=gamekitty.get_frame('sit_mirror_0'),\n",
    "    sit_paw=gamekitty.get_frame('sit_paw_mirror_0'),\n",
    "    sit_to_stand=gamekitty.get_frame('sit_to_stand_mirror_0'),\n",
    "    stand_waggle=gamekitty.get_frame('stand_waggle_mirror_0'),\n",
    "    stand_to_sit=gamekitty.get_frame('stand_to_sit_mirror_0'),\n",
    "    sit_to_crouch=gamekitty.get_frame('sit_to_crouch_mirror_0'),\n",
    "    crouch=gamekitty.get_frame('crouch_mirror_0'),\n",
    "    lie_down=gamekitty.get_frame('lie_down_mirror_0'),\n",
    "    crouch_to_sit=gamekitty.get_frame('crouch_to_sit_mirror_0'),\n",
    "    sit_paw_end=gamekitty.get_frame('sit_paw_mirror_3'),\n",
    "    sit_to_stand_end=gamekitty.get_frame('sit_to_stand_mirror_3'),\n",
    "    stand_waggle_end=gamekitty.get_frame('stand_waggle_mirror_1'),\n",
    "    stand_to_sit_end=gamekitty.get_frame('stand_to_sit_mirror_4'),\n",
    "    sit_to_crouch_end=gamekitty.get_frame('sit_to_crouch_mirror_2'),\n",
    "    crouch_to_sit_end=gamekitty.get_frame('crouch_to_sit_mirror_2'))"
   ]
  },
  {
   "cell_type": "code",
   "execution_count": 8,
   "metadata": {},
   "outputs": [
    {
     "data": {
      "text/plain": [
       "(Frame(id='turn_from_sit_6'),\n",
       " Frame(id='turn_from_sit_mirror_6'),\n",
       " Frame(id='turn_from_stand_7'),\n",
       " Frame(id='turn_from_stand_mirror_7'))"
      ]
     },
     "execution_count": 8,
     "metadata": {},
     "output_type": "execute_result"
    }
   ],
   "source": [
    "# Missing any transitions?\n",
    "gamekitty.find_absorbing_frames()"
   ]
  },
  {
   "cell_type": "code",
   "execution_count": 9,
   "metadata": {},
   "outputs": [],
   "source": [
    "# Connect mirror to non-mirror\n",
    "def connect_mirrors(\n",
    "    sit,\n",
    "    stand_waggle,\n",
    "    stand_waggle_mirror,\n",
    "    turn_from_sit,\n",
    "    turn_from_sit_end,\n",
    "    turn_from_stand,\n",
    "    turn_from_stand_end,\n",
    "):\n",
    "    sit.transition_to(turn_from_sit)\n",
    "    stand_waggle.transition_to(turn_from_stand)\n",
    "    turn_from_sit_end.transition_to(stand_waggle_mirror)\n",
    "    turn_from_stand_end.transition_to(stand_waggle_mirror)"
   ]
  },
  {
   "cell_type": "code",
   "execution_count": 10,
   "metadata": {},
   "outputs": [],
   "source": [
    "# Connect mirror to non-mirror\n",
    "connect_mirrors(\n",
    "    sit = gamekitty.get_frame('sit_0'),\n",
    "    stand_waggle = gamekitty.get_frame('stand_waggle_0'),\n",
    "    stand_waggle_mirror = gamekitty.get_frame('stand_waggle_mirror_0'),\n",
    "    turn_from_sit = gamekitty.get_frame('turn_from_sit_0'),\n",
    "    turn_from_sit_end = gamekitty.get_frame('turn_from_sit_6'),\n",
    "    turn_from_stand = gamekitty.get_frame('turn_from_stand_0'),\n",
    "    turn_from_stand_end = gamekitty.get_frame('turn_from_stand_7'))"
   ]
  },
  {
   "cell_type": "code",
   "execution_count": 11,
   "metadata": {},
   "outputs": [
    {
     "data": {
      "text/plain": [
       "(Frame(id='turn_from_sit_mirror_6'), Frame(id='turn_from_stand_mirror_7'))"
      ]
     },
     "execution_count": 11,
     "metadata": {},
     "output_type": "execute_result"
    }
   ],
   "source": [
    "# Missing any transitions?\n",
    "gamekitty.find_absorbing_frames()"
   ]
  },
  {
   "cell_type": "code",
   "execution_count": 12,
   "metadata": {},
   "outputs": [],
   "source": [
    "connect_mirrors(\n",
    "    sit = gamekitty.get_frame('sit_mirror_0'),\n",
    "    stand_waggle = gamekitty.get_frame('stand_waggle_mirror_0'),\n",
    "    stand_waggle_mirror = gamekitty.get_frame('stand_waggle_0'),\n",
    "    turn_from_sit = gamekitty.get_frame('turn_from_sit_mirror_0'),\n",
    "    turn_from_sit_end = gamekitty.get_frame('turn_from_sit_mirror_6'),\n",
    "    turn_from_stand = gamekitty.get_frame('turn_from_stand_mirror_0'),\n",
    "    turn_from_stand_end = gamekitty.get_frame('turn_from_stand_mirror_7'))"
   ]
  },
  {
   "cell_type": "code",
   "execution_count": 13,
   "metadata": {},
   "outputs": [
    {
     "data": {
      "text/plain": [
       "()"
      ]
     },
     "execution_count": 13,
     "metadata": {},
     "output_type": "execute_result"
    }
   ],
   "source": [
    "# Missing any transitions?\n",
    "gamekitty.find_absorbing_frames()"
   ]
  },
  {
   "cell_type": "code",
   "execution_count": null,
   "metadata": {},
   "outputs": [],
   "source": []
  }
 ],
 "metadata": {
  "kernelspec": {
   "display_name": "Python 3",
   "language": "python",
   "name": "python3"
  },
  "language_info": {
   "codemirror_mode": {
    "name": "ipython",
    "version": 3
   },
   "file_extension": ".py",
   "mimetype": "text/x-python",
   "name": "python",
   "nbconvert_exporter": "python",
   "pygments_lexer": "ipython3",
   "version": "3.6.4"
  }
 },
 "nbformat": 4,
 "nbformat_minor": 2
}
