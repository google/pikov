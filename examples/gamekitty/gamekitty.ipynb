{
 "cells": [
  {
   "cell_type": "code",
   "execution_count": 1,
   "metadata": {},
   "outputs": [],
   "source": [
    "import math\n",
    "import networkx.drawing.layout\n",
    "import IPython.display"
   ]
  },
  {
   "cell_type": "code",
   "execution_count": 2,
   "metadata": {},
   "outputs": [],
   "source": [
    "from pikov import pikov\n",
    "gamekitty = pikov.Pikov.open('gamekitty.pikov')"
   ]
  },
  {
   "cell_type": "code",
   "execution_count": null,
   "metadata": {},
   "outputs": [],
   "source": [
    "gamekitty"
   ]
  },
  {
   "cell_type": "code",
   "execution_count": 3,
   "metadata": {},
   "outputs": [
    {
     "data": {
      "image/png": "[encoded data removed]",
      "text/html": [
       "<table><tr><th>Frame</th><th></th></tr><tr><td>id</td><td>stand_waggle_0</td></tr><tr><td>duration</td><td>0.083333 seconds</td></tr><tr><td>image.key</td><td>md5-c28a87eda869e3329710b6e9cbb8cd76</td></tr><tr><td>image.contents</td><td><img alt=\"image with key md5-c28a87eda869e3329710b6e9cbb8cd76\" src=\"data:image/png;base64,iVBORw0KGgoAAAANSUhEUgAAAAgAAAAICAYAAADED76LAAAAX0lEQVR4nGOID/f/z8DAwACjYQDGZ9p3hYUhPtz//74rLAzYAJOTzh8GBgYGBiedPwzNZXP+oytgxGY8DCxcuZGRCau5yFYQrWDhyo2MMBrZwUwMDAwMKvK+DMg0MhsA85Yb8GJtyLkAAAAASUVORK5CYII=\" style=\"width: 5em; image-rendering: -moz-crisp-edges; image-rendering: crisp-edges; image-rendering: pixelated; \"></td></tr><tr><td>properties</td><td style=\"text-align: left;\"><pre>{\n",
       "  \"originalImage\": {\n",
       "    \"path\": \"gamekitty.png\",\n",
       "    \"x\": 80,\n",
       "    \"y\": 8,\n",
       "    \"width\": 8,\n",
       "    \"height\": 8,\n",
       "    \"flipX\": false\n",
       "  },\n",
       "  \"clipId\": \"stand_waggle\"\n",
       "}</pre></td></tr></table>"
      ],
      "text/plain": [
       "Frame(id='stand_waggle_0')"
      ]
     },
     "execution_count": 3,
     "metadata": {},
     "output_type": "execute_result"
    }
   ],
   "source": [
    "stand_waggle = gamekitty.get_frame('stand_waggle_0')\n",
    "stand_waggle"
   ]
  },
  {
   "cell_type": "code",
   "execution_count": 4,
   "metadata": {},
   "outputs": [
    {
     "data": {
      "image/gif": "[encoded data removed]",
      "text/html": [
       "<table><tr><th>Transition</th><th></th></tr><tr><td>id</td><td>19</td></tr><tr><td>source.id</td><td>stand_waggle_0</td></tr><tr><td>source.image</td><td><img alt=\"image with key md5-c28a87eda869e3329710b6e9cbb8cd76\" src=\"data:image/png;base64,iVBORw0KGgoAAAANSUhEUgAAAAgAAAAICAYAAADED76LAAAAX0lEQVR4nGOID/f/z8DAwACjYQDGZ9p3hYUhPtz//74rLAzYAJOTzh8GBgYGBiedPwzNZXP+oytgxGY8DCxcuZGRCau5yFYQrWDhyo2MMBrZwUwMDAwMKvK+DMg0MhsA85Yb8GJtyLkAAAAASUVORK5CYII=\" style=\"width: 5em; image-rendering: -moz-crisp-edges; image-rendering: crisp-edges; image-rendering: pixelated; \"></td></tr><tr><td>target.id</td><td>stand_to_sit_0</td></tr><tr><td>target.image</td><td><img alt=\"image with key md5-018dbee985489eec728bbd1b87e29e3e\" src=\"data:image/png;base64,iVBORw0KGgoAAAANSUhEUgAAAAgAAAAICAYAAADED76LAAAAgElEQVR4nG2OLQ6EMBBG3zS9BwbJKfCksrKGa3ABboFcgdis7ymKwxCuQVIEtCFsn5nM5PsZnDURIM1E2pUPGmdN9EHzxlkT5emsq451++GDZl9mcdZEKcUD+KBpmwP1l3vTNgfAJSj1A0yfryiAfZmlrrp8fBpyxTD2WZQeBjgB0T4rZZblbEkAAAAASUVORK5CYII=\" style=\"width: 5em; image-rendering: -moz-crisp-edges; image-rendering: crisp-edges; image-rendering: pixelated; \"></td></tr><tr><td>preview</td><td><img alt=\"clip preview\" src=\"data:image/gif;base64,R0lGODlhCAAIAIEAAF9XTx0rU4N2nAAAACH5BAAIAAAAIf8LTkVUU0NBUEUyLjADAQAAACwAAAAACAAIAAAIPQABDAAwoCCAAQEABBjAEMAAABAFDBgAYMAAABgzDhgAoKPHAQMAiBw5YACAAQAGBAAwYICAAQIGBBAwICAAIfkEAAgAAAAh/wtORVRTQ0FQRTIuMAMBAAAALAEAAQAHAAcAgV9XTx0rU4N2nAAAAAgsAAEEGEAQgEEAAgAEGACgocMAACJKjBgAgEWLAwYIADAgAIABIAUMCCBgQEAAOw==\" style=\"width: 5em; image-rendering: -moz-crisp-edges; image-rendering: crisp-edges; image-rendering: pixelated; \"></td></tr></table>"
      ],
      "text/plain": [
       "Transition(id=19, source=Frame(id='stand_waggle_0'), targetFrame(id='stand_to_sit_0'))"
      ]
     },
     "execution_count": 4,
     "metadata": {},
     "output_type": "execute_result"
    }
   ],
   "source": [
    "stand_waggle.transitions[0]"
   ]
  },
  {
   "cell_type": "code",
   "execution_count": 5,
   "metadata": {},
   "outputs": [
    {
     "data": {
      "image/png": "[encoded data removed]",
      "text/html": [
       "<table><tr><th>Frame</th><th></th></tr><tr><td>id</td><td>stand_to_sit_0</td></tr><tr><td>duration</td><td>0.083333 seconds</td></tr><tr><td>image.key</td><td>md5-018dbee985489eec728bbd1b87e29e3e</td></tr><tr><td>image.contents</td><td><img alt=\"image with key md5-018dbee985489eec728bbd1b87e29e3e\" src=\"data:image/png;base64,iVBORw0KGgoAAAANSUhEUgAAAAgAAAAICAYAAADED76LAAAAgElEQVR4nG2OLQ6EMBBG3zS9BwbJKfCksrKGa3ABboFcgdis7ymKwxCuQVIEtCFsn5nM5PsZnDURIM1E2pUPGmdN9EHzxlkT5emsq451++GDZl9mcdZEKcUD+KBpmwP1l3vTNgfAJSj1A0yfryiAfZmlrrp8fBpyxTD2WZQeBjgB0T4rZZblbEkAAAAASUVORK5CYII=\" style=\"width: 5em; image-rendering: -moz-crisp-edges; image-rendering: crisp-edges; image-rendering: pixelated; \"></td></tr><tr><td>properties</td><td style=\"text-align: left;\"><pre>{\n",
       "  \"originalImage\": {\n",
       "    \"path\": \"gamekitty.png\",\n",
       "    \"x\": 72,\n",
       "    \"y\": 24,\n",
       "    \"width\": 8,\n",
       "    \"height\": 8,\n",
       "    \"flipX\": false\n",
       "  },\n",
       "  \"clipId\": \"stand_to_sit\"\n",
       "}</pre></td></tr></table>"
      ],
      "text/plain": [
       "Frame(id='stand_to_sit_0')"
      ]
     },
     "execution_count": 5,
     "metadata": {},
     "output_type": "execute_result"
    }
   ],
   "source": [
    "stand_waggle.transitions[0].target"
   ]
  },
  {
   "cell_type": "code",
   "execution_count": 6,
   "metadata": {},
   "outputs": [
    {
     "data": {
      "image/png": "[encoded data removed]",
      "text/html": [
       "<table><tr><th>Image</th><th></th></tr><tr><td>key</td><td>md5-9b084a2f4cc7a7f940fac47ebe710c45</td></tr><tr><td>content_type</td><td>image/png</td></tr><tr><td>contents</td><td><img alt=\"image with key md5-9b084a2f4cc7a7f940fac47ebe710c45\" src=\"data:image/png;base64,iVBORw0KGgoAAAANSUhEUgAAAAgAAAAICAYAAADED76LAAAAXElEQVR4nGNgYGBgiA/3/49MIwMmBgYGhn1XWBjiw/3/77vCgi4PUeCk84cBRjeXzUExhRHGQDd+4cqNjHATsAGYBpwKUNwAA+iOlNUO/g9XoCLvC6dhbCedPwwAJgMa/Dg5AkIAAAAASUVORK5CYII=\" style=\"width: 5em; image-rendering: -moz-crisp-edges; image-rendering: crisp-edges; image-rendering: pixelated; \"></td></tr></table>"
      ],
      "text/plain": [
       "Image(key='md5-9b084a2f4cc7a7f940fac47ebe710c45')"
      ]
     },
     "execution_count": 6,
     "metadata": {},
     "output_type": "execute_result"
    }
   ],
   "source": [
    "gamekitty.get_image('md5-9b084a2f4cc7a7f940fac47ebe710c45')"
   ]
  },
  {
   "cell_type": "code",
   "execution_count": 7,
   "metadata": {},
   "outputs": [],
   "source": [
    "#sit = gamekitty.get_clip('sit')\n",
    "#sit_to_stand = gamekitty.get_clip('sit_to_stand')\n",
    "#sit_paw = gamekitty.get_clip('sit_paw')\n",
    "#stand_to_sit = gamekitty.get_clip('stand_to_sit')\n",
    "#sit + sit_to_stand + clip + clip + stand_to_sit + sit_paw"
   ]
  },
  {
   "cell_type": "code",
   "execution_count": 3,
   "metadata": {},
   "outputs": [],
   "source": [
    "frames = list(gamekitty.list_frames())\n",
    "transitions = list(gamekitty.list_transitions())\n",
    "graph = gamekitty.to_networkx()"
   ]
  },
  {
   "cell_type": "code",
   "execution_count": 22,
   "metadata": {},
   "outputs": [],
   "source": [
    "# LINE_WIDTH = 0.006\n",
    "# IMAGE_SIZE = 0.04\n",
    "LINE_WIDTH = 0.03\n",
    "IMAGE_SIZE = 0.3\n",
    "LINE_COLOR = '#83769c'  # 'lightblue'\n",
    "ARROW_WIDTH = LINE_WIDTH * 4\n",
    "ARROW_POINT = ARROW_WIDTH / 3.0\n",
    "\n",
    "# Radius to the corner of the image.\n",
    "IMAGE_RADIUS = (IMAGE_SIZE / 2.0) * math.sqrt(2.0)\n",
    "IMAGE_RADIUS += 0.01  # A little slush.\n",
    "VIEWBOX_COORDS = -1.0 - IMAGE_RADIUS\n",
    "VIEWBOX_SIZE = 2.0 * abs(VIEWBOX_COORDS)\n",
    "\n",
    "\n",
    "def arrow_head(x, y, angle):\n",
    "    x_start = x + (\n",
    "        -1.0 * math.cos(angle) * ARROW_POINT +\n",
    "        -1.0 * math.sin(angle) * ARROW_WIDTH / 2.0\n",
    "    )\n",
    "    x_end = x + (\n",
    "        -1.0 * math.cos(angle) * ARROW_POINT +\n",
    "        math.sin(angle) * ARROW_WIDTH / 2.0\n",
    "    )\n",
    "    y_start = y + (\n",
    "        math.cos(angle) * ARROW_WIDTH / 2.0 +\n",
    "        -1.0 * math.sin(angle) * ARROW_POINT\n",
    "    )\n",
    "    y_end = y + (\n",
    "        -1.0 * math.cos(angle) * ARROW_WIDTH / 2.0 +\n",
    "        -1.0 * math.sin(angle) * ARROW_POINT\n",
    "    )\n",
    "    return (\n",
    "        f'<path d=\"M {x_start} {y_start} L {x} {y} {x_end} {y_end}\" '\n",
    "        f'stroke=\"{LINE_COLOR}\" stroke-width=\"{LINE_WIDTH}\" fill=\"none\" />'\n",
    "    )\n",
    "\n",
    "\n",
    "def to_svg(layout, frames, transitions):\n",
    "    lines = []\n",
    "    for transition in transitions:\n",
    "        if transition.source != transition.target:\n",
    "            x1, y1 = layout[transition.source]\n",
    "            x2, y2 = layout[transition.target]\n",
    "            angle = math.atan2(y2 - y1, x2 - x1)\n",
    "            #xo = (IMAGE_SIZE / 2.0 + 0.01) * math.cos(angle)\n",
    "            #yo = (IMAGE_SIZE / 2.0 + 0.01) * math.sin(angle)\n",
    "            xo = math.cos(angle) * IMAGE_RADIUS\n",
    "            yo = math.sin(angle) * IMAGE_RADIUS\n",
    "            line = (\n",
    "                f'<line x1=\"{x1 + xo}\" y1=\"{y1 + yo}\" x2=\"{x2 - xo}\" y2=\"{y2 - yo}\" '\n",
    "                f'stroke=\"{LINE_COLOR}\" stroke-width=\"{LINE_WIDTH}\" />'\n",
    "            )\n",
    "            line += arrow_head(x2 - xo, y2 - yo, angle)\n",
    "        else:\n",
    "            x, y = layout[transition.source]\n",
    "            line = (\n",
    "                f'<path d=\"M {x} {y - IMAGE_RADIUS} '\n",
    "                f'A {IMAGE_RADIUS} {IMAGE_RADIUS} 0 0 0 {x - 2 * IMAGE_RADIUS} {y - IMAGE_RADIUS} '\n",
    "                f'{IMAGE_RADIUS} {IMAGE_RADIUS} 0 0 0 {x - IMAGE_RADIUS} {y}\" '\n",
    "                f'stroke=\"{LINE_COLOR}\" stroke-width=\"{LINE_WIDTH}\" fill=\"none\" />'\n",
    "            )\n",
    "            line += arrow_head(x - IMAGE_RADIUS, y, 0)\n",
    "        lines.append(line)\n",
    "    images = []\n",
    "    for frame in frames:\n",
    "        x, y = layout[frame]\n",
    "        imgurl = frame.image._to_data_url()\n",
    "        image = (\n",
    "            f'<image href=\"{imgurl}\" image-rendering=\"optimizeSpeed\" '\n",
    "            f'x=\"{x - IMAGE_SIZE / 2}\" y=\"{y - IMAGE_SIZE / 2}\" '\n",
    "            f'height=\"{IMAGE_SIZE}\" width=\"{IMAGE_SIZE}\" />'\n",
    "        )\n",
    "        images.append(image)\n",
    "    linesstr = '\\n'.join(lines)\n",
    "    imagesstr = '\\n'.join(images)\n",
    "    return f\"\"\"\n",
    "    <svg viewBox=\"{VIEWBOX_COORDS} {VIEWBOX_COORDS} {VIEWBOX_SIZE} {VIEWBOX_SIZE}\" xmlns=\"http://www.w3.org/2000/svg\">\n",
    "    {linesstr}\n",
    "    {imagesstr}\n",
    "    </svg>\n",
    "    \"\"\""
   ]
  },
  {
   "cell_type": "code",
   "execution_count": 23,
   "metadata": {},
   "outputs": [
    {
     "data": {
      "image/svg+xml": [
       "<svg viewBox=\"-1.2221320343559643 -1.2221320343559643 2.4442640687119286 2.4442640687119286\" xmlns=\"http://www.w3.org/2000/svg\">\n",
       "    <line stroke=\"#83769c\" stroke-width=\"0.03\" x1=\"0.7089543268234262\" x2=\"0.6570710316150656\" y1=\"0.6570710742063426\" y2=\"0.7089543736391164\"/><path d=\"M 0.6429288931126517 0.6382436960961984 L 0.6570710316150656 0.7089543736391164 0.7277817103094569 0.7230965063841642\" fill=\"none\" stroke=\"#83769c\" stroke-width=\"0.03\"/>\n",
       "<line stroke=\"#83769c\" stroke-width=\"0.03\" x1=\"0.2854368965259238\" x2=\"0.21456303989447417\" y1=\"0.9235174307965526\" y2=\"0.9425080170489064\"/><path d=\"M 0.2376709359918869 0.8741997076132955 L 0.21456303989447417 0.9425080170489064 0.26872921164372554 0.9901108093832915\" fill=\"none\" stroke=\"#83769c\" stroke-width=\"0.03\"/>\n",
       "<line stroke=\"#83769c\" stroke-width=\"0.03\" x1=\"-0.21456310168272572\" x2=\"-0.28543699169919867\" y1=\"0.9425079955287501\" y2=\"0.9235173927120641\"/><path d=\"M -0.2312708151755028 0.875914605810415 L -0.28543699169919867 0.9235173927120641 -0.26232910245294405 0.9918257044653407\" fill=\"none\" stroke=\"#83769c\" stroke-width=\"0.03\"/>\n",
       "<line stroke=\"#83769c\" stroke-width=\"0.03\" x1=\"-0.9235173813081577\" x2=\"-0.9425080069326565\" y1=\"0.2854369886435313\" y2=\"0.21456299843949808\"/><path d=\"M -0.8741996964075512 0.23767089131630098 L -0.9425080069326565 0.21456299843949808 -0.9901107967132073 0.26872917243313255\" fill=\"none\" stroke=\"#83769c\" stroke-width=\"0.03\"/>\n",
       "<line stroke=\"#83769c\" stroke-width=\"0.03\" x1=\"-0.7089543268234251\" x2=\"-0.657070972010422\" y1=\"-0.6570710146016968\" y2=\"-0.7089543736391174\"/><path d=\"M -0.6429288335080084 -0.6382436960961992 L -0.657070972010422 -0.7089543736391174 -0.7277816507048132 -0.7230965063841658\" fill=\"none\" stroke=\"#83769c\" stroke-width=\"0.03\"/>\n",
       "<line stroke=\"#83769c\" stroke-width=\"0.03\" x1=\"-0.28543683897727656\" x2=\"-0.21456304975676876\" y1=\"-0.923517438469642\" y2=\"-0.942508009375817\"/><path d=\"M -0.2376709434113764 -0.8741996991138339 L -0.21456304975676876 -0.942508009375817 -0.2687292232083656 -0.9901107997731406\" fill=\"none\" stroke=\"#83769c\" stroke-width=\"0.03\"/>\n",
       "<line stroke=\"#83769c\" stroke-width=\"0.03\" x1=\"0.21456309221802697\" x2=\"0.2854368402339934\" y1=\"-0.9425080046856853\" y2=\"-0.9235174431597737\"/><path d=\"M 0.23127066574184774 -0.8759146539464678 L 0.2854368402339934 -0.9235174431597737 0.2623289480725363 -0.991825753926872\" fill=\"none\" stroke=\"#83769c\" stroke-width=\"0.03\"/>\n",
       "<line stroke=\"#83769c\" stroke-width=\"0.03\" x1=\"0.6570710103772891\" x2=\"0.7089542288519132\" y1=\"-0.7089544120059907\" y2=\"-0.6570712146534026\"/><path d=\"M 0.6382435536119436 -0.6429290646362531 L 0.7089542288519132 -0.6570712146534026 0.7230963500822251 -0.7277818956507396\" fill=\"none\" stroke=\"#83769c\" stroke-width=\"0.03\"/>\n",
       "<line stroke=\"#83769c\" stroke-width=\"0.03\" x1=\"-0.15707106345764443\" x2=\"-0.34292892461994495\" y1=\"-0.34292893975632444\" y2=\"-0.15707109650448323\"/><path d=\"M -0.3570710568366078 -0.22778177530455151 L -0.34292892461994495 -0.15707109650448323 -0.27221824718270393 -0.14292895747368417\" fill=\"none\" stroke=\"#83769c\" stroke-width=\"0.03\"/>\n",
       "<line stroke=\"#83769c\" stroke-width=\"0.03\" x1=\"-0.34292894038041666\" x2=\"-0.15707107551530716\" y1=\"0.15707103974333952\" y2=\"0.3429289239958528\"/><path d=\"M -0.22778175437156656 0.3570710559315601 L -0.15707107551530716 0.3429289239958528 -0.1429289362035526 0.2722182466148029\" fill=\"none\" stroke=\"#83769c\" stroke-width=\"0.03\"/>\n",
       "<line stroke=\"#83769c\" stroke-width=\"0.03\" x1=\"0.15707105558317053\" x2=\"0.3429289285211056\" y1=\"0.3429289358551635\" y2=\"0.1570710715954171\"/><path d=\"M 0.35707106249400355 0.22778175004423845 L 0.3429289285211056 0.1570710715954171 0.2722182507326175 0.14292893432085316\" fill=\"none\" stroke=\"#83769c\" stroke-width=\"0.03\"/>\n",
       "<path d=\"M 1.0 -0.22213201945480307 A 0.22213203435596426 0.22213203435596426 0 0 0 0.5557359312880714 -0.22213201945480307 0.22213203435596426 0.22213203435596426 0 0 0 0.7778679656440357 1.4901161193847656e-08\" fill=\"none\" stroke=\"#83769c\" stroke-width=\"0.03\"/><path d=\"M 0.7378679656440357 0.06000001490116119 L 0.7778679656440357 1.4901161193847656e-08 0.7378679656440357 -0.059999985098838804\" fill=\"none\" stroke=\"#83769c\" stroke-width=\"0.03\"/>\n",
       "<line stroke=\"#83769c\" stroke-width=\"0.03\" x1=\"0.9425079911593309\" x2=\"0.9235173970814833\" y1=\"0.21456308163582483\" y2=\"0.28543693326533637\"/><path d=\"M 0.8759146112828885 0.23127075577224473 L 0.9235173970814833 0.28543693326533637 0.9918257093053351 0.2623290454101303\" fill=\"none\" stroke=\"#83769c\" stroke-width=\"0.03\"/>\n",
       "<line stroke=\"#83769c\" stroke-width=\"0.03\" x1=\"0.8013190701378798\" x2=\"0.19868094178453075\" y1=\"-0.09934045417485328\" y2=\"-0.40065953092398554\"/><path d=\"M 0.26129084575164063 -0.43643661751902957 L 0.19868094178453075 -0.40065953092398554 0.20762521250029836 -0.3291053554947133\" fill=\"none\" stroke=\"#83769c\" stroke-width=\"0.03\"/>\n",
       "<line stroke=\"#83769c\" stroke-width=\"0.03\" x1=\"0.7221320343559643\" x2=\"0.7778679656440357\" y1=\"1.0760605847179358e-08\" y2=\"1.1591135943592127e-08\"/><path d=\"M 0.7378679647499661 0.06000001099508949 L 0.7778679656440357 1.1591135943592127e-08 0.7378679665381054 -0.05999998900491049\" fill=\"none\" stroke=\"#83769c\" stroke-width=\"0.03\"/>\n",
       "<line stroke=\"#83769c\" stroke-width=\"0.03\" x1=\"-0.6570711274165102\" x2=\"-0.7089543204289488\" y1=\"0.7089543204289487\" y2=\"0.6570711274165103\"/><path d=\"M -0.6382436423102941 0.6429289917927794 L -0.7089543204289488 0.6570711274165103 -0.7230964560526798 0.727781805535165\" fill=\"none\" stroke=\"#83769c\" stroke-width=\"0.03\"/>\n",
       "<line stroke=\"#83769c\" stroke-width=\"0.03\" x1=\"-0.9425080069326565\" x2=\"-0.9235173813081577\" y1=\"0.21456299843949808\" y2=\"0.2854369886435313\"/><path d=\"M -0.991825691833263 0.26232909576672836 L -0.9235173813081577 0.2854369886435313 -0.8759145915276069 0.23127081464989682\" fill=\"none\" stroke=\"#83769c\" stroke-width=\"0.03\"/>\n",
       "<line stroke=\"#83769c\" stroke-width=\"0.03\" x1=\"-0.942507978583238\" x2=\"-0.9235174096575762\" y1=\"-0.21456313588652418\" y2=\"-0.2854368770304464\"/><path d=\"M -0.8759146270338005 -0.2312706967472332 L -0.9235174096575762 -0.2854368770304464 -0.9918257232358406 -0.2623289931789662\" fill=\"none\" stroke=\"#83769c\" stroke-width=\"0.03\"/>\n",
       "<line stroke=\"#83769c\" stroke-width=\"0.03\" x1=\"0.9235173389606783\" x2=\"0.9425079896754911\" y1=\"-0.28543711247686443\" y2=\"-0.2145630514359087\"/><path d=\"M 0.8741996772918336 -0.23767093881871942 L 0.9425079896754911 -0.2145630514359087 0.9901107750994923 -0.2687292292582038\" fill=\"none\" stroke=\"#83769c\" stroke-width=\"0.03\"/>\n",
       "    <image height=\"0.3\" href=\"data:image/png;base64,iVBORw0KGgoAAAANSUhEUgAAAAgAAAAICAYAAADED76LAAAAXElEQVR4nGNgYGBgiA/3/49MIwMmBgYGhn1XWBjiw/3/77vCgi4PUeCk84cBRjeXzUExhRHGQDd+4cqNjHATsAGYBpwKUNwAA+iOlNUO/g9XoCLvC6dhbCedPwwAJgMa/Dg5AkIAAAAASUVORK5CYII=\" image-rendering=\"optimizeSpeed\" width=\"0.3\" x=\"0.85\" y=\"-0.1499999850988388\"/>\n",
       "<image height=\"0.3\" href=\"data:image/png;base64,iVBORw0KGgoAAAANSUhEUgAAAAgAAAAICAYAAADED76LAAAAdElEQVR4nGNgYGBgiA/3/49MIwMmBgYGhn1XWBjiw/3/77vCgi4PUeCk84cBRjeXzUExhRHGQDd+4cqNjHATsAGYBkZcjoO5jYmBgYFBRd6XYeHKjYzYHAl3g6x28H8GBgaGNG9PBgYGBoY7DzczMDAwMAAAynIhcFzYUD4AAAAASUVORK5CYII=\" image-rendering=\"optimizeSpeed\" width=\"0.3\" x=\"-0.14999998807758938\" y=\"-0.65\"/>\n",
       "<image height=\"0.3\" href=\"data:image/png;base64,iVBORw0KGgoAAAANSUhEUgAAAAgAAAAICAYAAADED76LAAAAbElEQVR4nGNgYGBgiA/3/49MIwMmBgYGhn1XWBjiw/3/77vCgi4PUeCk84cBRjeXzUExhRHGQDd+4cqNjHATsNkNE2NCNxIZyGoH/2dEF4C5B+Z4RmRJBgYGhjRvTwYGBgaGOw83MzAwMDAAAO1+JIB+IJIoAAAAAElFTkSuQmCC\" image-rendering=\"optimizeSpeed\" width=\"0.3\" x=\"-0.65\" y=\"-0.15000003626080768\"/>\n",
       "<image height=\"0.3\" href=\"data:image/png;base64,iVBORw0KGgoAAAANSUhEUgAAAAgAAAAICAYAAADED76LAAAAbUlEQVR4nGNgYGBgiA/3/49MIwMmBgYGhn1XWBjiw/3/77vCgi4PUeCk84cBRjeXzUExhRHGQDd+4cqNjHATsAGYBkZcjoO5jQlmnIq8LwM2R8LdIKsd/J+BgYEhzduTgYGBgeHOw80MDAwMDADQIiFw1Gf9NAAAAABJRU5ErkJggg==\" image-rendering=\"optimizeSpeed\" width=\"0.3\" x=\"-0.15000001589572384\" y=\"0.35\"/>\n",
       "<image height=\"0.3\" href=\"data:image/png;base64,iVBORw0KGgoAAAANSUhEUgAAAAgAAAAICAYAAADED76LAAAAcUlEQVR4nGNgYGBgiA/3/49MIwMmBgYGhn1XWBjiw/3/77vCgi4PUeCk84cBRjeXzUExhRHGQDd+4cqNjHATsAGYBpwKGBgYGGS1g//DFSxcuZFRRd4XQxEjsmoGBgaGNG9PBgYGBoY7DzczMDAwMAAAt7Qd22ve8icAAAAASUVORK5CYII=\" image-rendering=\"optimizeSpeed\" width=\"0.3\" x=\"0.35\" y=\"-0.1499999925494194\"/>\n",
       "<image height=\"0.3\" href=\"data:image/png;base64,iVBORw0KGgoAAAANSUhEUgAAAAgAAAAICAYAAADED76LAAAAY0lEQVR4nGNgYGBgiA/3/49MIwMmBgYGhn1XWBjiw/3/77vCgi4PUeCk84cBRjeXzUExhRHGQDd+4cqNjHATsAGYBpwKUNwAAyryviiSstrB/5mQJWdt3c6w7woLXKGTzh8GACZ6HQIJhIKyAAAAAElFTkSuQmCC\" image-rendering=\"optimizeSpeed\" width=\"0.3\" x=\"0.7160253882408142\" y=\"0.35\"/>\n",
       "<image height=\"0.3\" href=\"data:image/png;base64,iVBORw0KGgoAAAANSUhEUgAAAAgAAAAICAYAAADED76LAAAAYklEQVR4nGNgYGBgiA/3/49MIwMmBgYGhn1XWBjiw/3/77vCgi7PwIiuU0Xel+HOw80MC1duZIQrwGX8vissECvwAbwKnHT+YCqA2Q0DcGeryPsyMDAwMMhqs/xXkfeEOxQAbzoeGqhXKIAAAAAASUVORK5CYII=\" image-rendering=\"optimizeSpeed\" width=\"0.3\" x=\"0.3499999701976776\" y=\"0.716025447845459\"/>\n",
       "<image height=\"0.3\" href=\"data:image/png;base64,iVBORw0KGgoAAAANSUhEUgAAAAgAAAAICAYAAADED76LAAAAdklEQVR4nGOID/f/z8DAwACj0QHTvissDPHh/v/3XWFBkYBpYHLS+cPAwMDA4KTzh6G5bM5/dEWMuIxfuHIjY3y4/38mbPaiWMHAwMCAbj+yKUwMDAwMj6+uZVSR94ULImuAW1HblcKoIu/LIKsd/D/N2xOuAAB4CClowzu/ngAAAABJRU5ErkJggg==\" image-rendering=\"optimizeSpeed\" width=\"0.3\" x=\"-0.15000003377727963\" y=\"0.85\"/>\n",
       "<image height=\"0.3\" href=\"data:image/png;base64,iVBORw0KGgoAAAANSUhEUgAAAAgAAAAICAYAAADED76LAAAAZ0lEQVR4nGOID/f/z8DAwACj0dlM+66wMMSH+//fd4WFARnAFDE56fxhYGBgYHDS+cPQXDbnPwMDA8PClRsZYQoZ0Y1EBgtXbmRkwiaBDIhXALN34cqNjMgOZmJgYGBQkfdlQKaR2QD0Rx/wn9C1wQAAAABJRU5ErkJggg==\" image-rendering=\"optimizeSpeed\" width=\"0.3\" x=\"-0.6500000596046448\" y=\"0.7160253882408142\"/>\n",
       "<image height=\"0.3\" href=\"data:image/png;base64,iVBORw0KGgoAAAANSUhEUgAAAAgAAAAICAYAAADED76LAAAAgElEQVR4nG2OLQ6EMBBG3zS9BwbJKfCksrKGa3ABboFcgdis7ymKwxCuQVIEtCFsn5nM5PsZnDURIM1E2pUPGmdN9EHzxlkT5emsq451++GDZl9mcdZEKcUD+KBpmwP1l3vTNgfAJSj1A0yfryiAfZmlrrp8fBpyxTD2WZQeBjgB0T4rZZblbEkAAAAASUVORK5CYII=\" image-rendering=\"optimizeSpeed\" width=\"0.3\" x=\"-1.0160253882408141\" y=\"-0.6499999403953552\"/>\n",
       "<image height=\"0.3\" href=\"data:image/png;base64,iVBORw0KGgoAAAANSUhEUgAAAAgAAAAICAYAAADED76LAAAAYElEQVR4nI3OrQ3AIBCG4fcIe2BYhyCRzIZEknqmQGI6CXXkQiv6mfvJc8kBkFNcuureAPRhySmuPiw6OcUl56V3gXlflNpkgxPpmK/lb1BqkxcotYl+dgPvAt4F9AzwAKhqH5MvKKW8AAAAAElFTkSuQmCC\" image-rendering=\"optimizeSpeed\" width=\"0.3\" x=\"-0.6499999105930329\" y=\"-1.016025447845459\"/>\n",
       "<image height=\"0.3\" href=\"data:image/png;base64,iVBORw0KGgoAAAANSUhEUgAAAAgAAAAICAYAAADED76LAAAAaklEQVR4nGNgYGBgiA/3/49MI7OZGBgYGPZdYWGID/f/v+8KCwMyiA/3/8+IrlNF3pfhzsPNDAtXbmSEK0BXhAyYsAniVIDuhoUrNzKiKEjz9mRYuHIjI7JCuAIVeV+G2q4URmQ+AwMDAwBzeiL/U9of6gAAAABJRU5ErkJggg==\" image-rendering=\"optimizeSpeed\" width=\"0.3\" x=\"-0.14999997814101249\" y=\"-1.15\"/>\n",
       "<image height=\"0.3\" href=\"data:image/png;base64,iVBORw0KGgoAAAANSUhEUgAAAAgAAAAICAYAAADED76LAAAAY0lEQVR4nGNgYGBgiA/3/49MIwMmBgYGhn1XWBjiw/3/77vCgi7PwIiuU0Xel+HOw80MC1duZJTVDv7PCJPAZvy+KywQK/AB0hQsXLmREWY0AwMDg5POH4QCFXlfDHrhyo2MAH0hHiGZHvqeAAAAAElFTkSuQmCC\" image-rendering=\"optimizeSpeed\" width=\"0.3\" x=\"0.3499999105930328\" y=\"-1.016025447845459\"/>\n",
       "<image height=\"0.3\" href=\"data:image/png;base64,iVBORw0KGgoAAAANSUhEUgAAAAgAAAAICAYAAADED76LAAAAY0lEQVR4nGNgYGBgiA/3/49MIwMmBgYGhn1XWBjiw/3/77vCgi4PUeCk84cBRjeXzUExhRHGQDd+4cqNjHATsAGYBpwKGBgYGGS1g/+jKIAZi+FIBgYGBhV5XzgNYzvp/GEAAG7JG2J6oHfZAAAAAElFTkSuQmCC\" image-rendering=\"optimizeSpeed\" width=\"0.3\" x=\"0.7160253286361694\" y=\"-0.6500001788139343\"/>\n",
       "<image height=\"0.3\" href=\"data:image/png;base64,iVBORw0KGgoAAAANSUhEUgAAAAgAAAAICAYAAADED76LAAAAX0lEQVR4nGOID/f/z8DAwACjYQDGZ9p3hYUhPtz//74rLAzYAJOTzh8GBgYGBiedPwzNZXP+oytgxGY8DCxcuZGRCau5yFYQrWDhyo2MMBrZwUwMDAwMKvK+DMg0MhsA85Yb8GJtyLkAAAAASUVORK5CYII=\" image-rendering=\"optimizeSpeed\" width=\"0.3\" x=\"-1.0160253882408141\" y=\"0.35000005960464475\"/>\n",
       "<image height=\"0.3\" href=\"data:image/png;base64,iVBORw0KGgoAAAANSUhEUgAAAAgAAAAICAYAAADED76LAAAAZ0lEQVR4nGOID/f/z8DAwACj0dlM+66wMMSH+//fd4WFARnAFDE56fxhYGBgYHDS+cPQXDbnPwMDA8PClRsZYQoZ0Y1EBgtXbmRkwiaBDIhXALN34cqNjMgOZmJgYGBQkfdlQKaR2QD0Rx/wn9C1wQAAAABJRU5ErkJggg==\" image-rendering=\"optimizeSpeed\" width=\"0.3\" x=\"-1.15\" y=\"-0.15000007252161537\"/>\n",
       "    </svg>"
      ],
      "text/plain": [
       "<IPython.core.display.SVG object>"
      ]
     },
     "metadata": {},
     "output_type": "display_data"
    }
   ],
   "source": [
    "sit_nodes = [gamekitty.get_frame('sit_0')] + [\n",
    "    gamekitty.get_frame(f'sit_to_stand_{index}') for index in range(4)\n",
    "] + [\n",
    "    gamekitty.get_frame(f'stand_waggle_{index}') for index in range(2)\n",
    "] + [\n",
    "    gamekitty.get_frame(f'stand_to_sit_{index}') for index in range(5)\n",
    "]\n",
    "paw_nodes = [gamekitty.get_frame(f'sit_paw_{index}') for index in range(3, -1, -1)]\n",
    "shell_layout = networkx.drawing.layout.shell_layout(graph, [paw_nodes, sit_nodes])\n",
    "IPython.display.display(IPython.display.SVG(data=to_svg(shell_layout, frames, transitions)))"
   ]
  },
  {
   "cell_type": "code",
   "execution_count": null,
   "metadata": {},
   "outputs": [],
   "source": []
  }
 ],
 "metadata": {
  "kernelspec": {
   "display_name": "Python 3",
   "language": "python",
   "name": "python3"
  },
  "language_info": {
   "codemirror_mode": {
    "name": "ipython",
    "version": 3
   },
   "file_extension": ".py",
   "mimetype": "text/x-python",
   "name": "python",
   "nbconvert_exporter": "python",
   "pygments_lexer": "ipython3",
   "version": "3.6.4"
  }
 },
 "nbformat": 4,
 "nbformat_minor": 2
}
